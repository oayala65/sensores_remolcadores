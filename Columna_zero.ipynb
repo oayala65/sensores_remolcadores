{
 "cells": [
  {
   "cell_type": "code",
   "execution_count": 1,
   "id": "3bc79a69",
   "metadata": {},
   "outputs": [],
   "source": [
    "%load_ext cudf.pandas\n",
    "import sklearn"
   ]
  },
  {
   "cell_type": "code",
   "execution_count": 2,
   "id": "7fa51c7a",
   "metadata": {},
   "outputs": [],
   "source": [
    "import cudf"
   ]
  },
  {
   "cell_type": "code",
   "execution_count": 3,
   "id": "910f3bf9-d911-41c6-bf5b-d566beefb688",
   "metadata": {},
   "outputs": [
    {
     "name": "stdout",
     "output_type": "stream",
     "text": [
      "Análisis completado. Resultados guardados en 'analisis_columnas_ceros.txt'.\n"
     ]
    }
   ],
   "source": [
    "import os\n",
    "import pandas as pd\n",
    "\n",
    "# Obtener todos los archivos .csv del directorio actual\n",
    "csv_files = [f for f in os.listdir() if f.endswith('.csv')]\n",
    "\n",
    "if not csv_files:\n",
    "    print(\"No se encontraron archivos .csv en el directorio actual.\")\n",
    "else:\n",
    "    resumen = []\n",
    "\n",
    "    for csv_file in csv_files:\n",
    "        try:\n",
    "            df = pd.read_csv(csv_file)\n",
    "\n",
    "            # Convertir a Excel\n",
    "            excel_file = csv_file.replace('.csv', '.xlsx')\n",
    "            df.to_excel(excel_file, index=False)\n",
    "\n",
    "            # Analizar columnas con solo ceros\n",
    "            columnas_solo_ceros = [col for col in df.columns if pd.api.types.is_numeric_dtype(df[col]) and (df[col] == 0).all()]\n",
    "            \n",
    "            # Guardar resultados en el resumen\n",
    "            resumen.append(f\"Archivo: {csv_file}\")\n",
    "            if columnas_solo_ceros:\n",
    "                for col in columnas_solo_ceros:\n",
    "                    resumen.append(f\"  - Columna con solo ceros: {col}\")\n",
    "            else:\n",
    "                resumen.append(\"  - Sin columnas con solo ceros.\")\n",
    "            resumen.append(\"\")  # Línea en blanco entre archivos\n",
    "        except Exception as e:\n",
    "            resumen.append(f\"Archivo: {csv_file}\")\n",
    "            resumen.append(f\"  - Error al procesar: {e}\")\n",
    "            resumen.append(\"\")\n",
    "\n",
    "    # Guardar el resumen en un archivo de texto\n",
    "    with open(\"analisis_columnas_ceros.txt\", \"w\") as f:\n",
    "        f.write(\"\\n\".join(resumen))\n",
    "\n",
    "    print(\"Análisis completado. Resultados guardados en 'analisis_columnas_ceros.txt'.\")\n"
   ]
  },
  {
   "cell_type": "code",
   "execution_count": null,
   "id": "41d52c8b",
   "metadata": {},
   "outputs": [],
   "source": []
  }
 ],
 "metadata": {
  "kernelspec": {
   "display_name": "py310",
   "language": "python",
   "name": "py310"
  },
  "language_info": {
   "codemirror_mode": {
    "name": "ipython",
    "version": 3
   },
   "file_extension": ".py",
   "mimetype": "text/x-python",
   "name": "python",
   "nbconvert_exporter": "python",
   "pygments_lexer": "ipython3",
   "version": "3.10.16"
  }
 },
 "nbformat": 4,
 "nbformat_minor": 5
}
